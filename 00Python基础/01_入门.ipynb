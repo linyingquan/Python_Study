{
 "cells": [
  {
   "cell_type": "markdown",
   "metadata": {},
   "source": [
    "# 第一天熟悉环境\n",
    "  - 环境安装Anaconda3 + pycharm\n",
    "  - 拥有自己的github + 博客\n"
   ]
  },
  {
   "cell_type": "code",
   "execution_count": 2,
   "metadata": {},
   "outputs": [
    {
     "name": "stdout",
     "output_type": "stream",
     "text": [
      "hello\n"
     ]
    }
   ],
   "source": [
    "print(\"hello\")"
   ]
  },
  {
   "cell_type": "markdown",
   "metadata": {},
   "source": [
    "# python基础\n",
    "- 注释\n",
    "  - 行注释：#\n",
    "  - 块注释：''' ......'''\n",
    "- 变量\n",
    "  - 变量命名规则：\n",
    "    - 变量名：大小写字母，数字，下划线\n",
    "    - 数字不能打头\n",
    "    - 以下划线开头的内容具有特殊含义\n",
    "    - 区分大小写\n",
    "\n",
    "  - 推荐写法\n",
    "    - 使用具有固定含义的英文单词或者缩写， srv=server skt=socket,一般以posix命名规则为主\n",
    "    - 驼峰命名法\n",
    "        - 名称以单词自动连接，且每个单词首字母大写\n",
    "            - 大驼峰，每个单词第一个字母均大写\n",
    "            - 在Python中给类命名使用此法\n",
    "            - MyFirstLove, IntOne\n",
    "        - 小驼峰，类似大驼峰，但第一个字母小写\n",
    "            - 在Python中一般给普通变量或者函数命名\n",
    "            - myFirstLove, intOne\n",
    "        - posix写法\n",
    "            - 多个单词用下划线链接\n",
    "            - 单词全部小写\n",
    "            - my_first_love, int_one\n",
    "    - python保留字\n",
    "        - 变量名不能用\n",
    "        \n",
    "            \n",
    "  "
   ]
  },
  {
   "cell_type": "code",
   "execution_count": 3,
   "metadata": {},
   "outputs": [
    {
     "name": "stdout",
     "output_type": "stream",
     "text": [
      "['False', 'None', 'True', 'and', 'as', 'assert', 'async', 'await', 'break', 'class', 'continue', 'def', 'del', 'elif', 'else', 'except', 'finally', 'for', 'from', 'global', 'if', 'import', 'in', 'is', 'lambda', 'nonlocal', 'not', 'or', 'pass', 'raise', 'return', 'try', 'while', 'with', 'yield']\n"
     ]
    }
   ],
   "source": [
    "# 保留字查看方法\n",
    "import keyword #引入关键字模块\n",
    "print(keyword.kwlist)\n"
   ]
  },
  {
   "cell_type": "code",
   "execution_count": 4,
   "metadata": {},
   "outputs": [
    {
     "name": "stdout",
     "output_type": "stream",
     "text": [
      "18\n",
      "18\n",
      "18\n",
      "12\n",
      "21\n",
      "45\n"
     ]
    }
   ],
   "source": [
    "# 变量的声明\n",
    "# 给age1， age2， age3 放入同样一个内容或值\n",
    "age1 = age2 = age3 = 18\n",
    "print(age1)\n",
    "print(age2)\n",
    "print(age3)\n",
    "\n",
    "# 一行内给多个变量赋值\n",
    "age4, age5, age6 = 12, 21, 45\n",
    "print(age4)\n",
    "print(age5)\n",
    "print(age6)"
   ]
  },
  {
   "cell_type": "markdown",
   "metadata": {},
   "source": [
    "## 变量类型\n",
    "    - 严格意义上讲，python只有一个类型\n",
    "    - 标准数据一共六种\n",
    "        - 数字类型Number\n",
    "        - 字符串类型str\n",
    "        - 列表list\n",
    "        - 元组tuple\n",
    "        - 字典 Dictionary\n",
    "        - 集合 set\n",
    "        \n",
    "## Number数字类型\n",
    "    - 数字类型没有大小限制 ### 整数\n",
    "    - 没有小数部分，表示个数的数字\n",
    "    - 自然数，0，负自然数\n",
    "    - 整数分进制\n",
    "        - 二进制\n",
    "            计算机常用\n",
    "            是计算机唯一能直接理解的数字\n",
    "            表示为0b开头的0,1代码\n",
    "            例如 0b01101, 0b10001\n",
    "        - 八进制\n",
    "            - 不常用\n",
    "            - 以0o开头的包含0-7的数字\n",
    "        - 十六进制\n",
    "            - 缝16进1\n",
    "            - 其实是每四位二进制表示一位十六进制数\n",
    "            - 包含0-9， a-f\n",
    "            - 数字上以0x开头表示\n",
    "        - 十进制\n",
    "            18， 89， 178\n",
    "            In [13]:\n",
    "            age = 18\n",
    "            print(18)\n",
    "    \n",
    "    - 浮点数\n",
    "        小数\n",
    "        计算机里边表示浮点数可以有条件省略\n",
    "        3.1415\n",
    "        3.\n",
    "        0.5\n",
    "        .5\n",
    "        科学计数法\n",
    "            - 定义跟数学定义\n",
    "            - 写法是用e/E后面跟整数表示10的指数\n",
    "            - 176.23 == 1.7634e2\n",
    "            - 0.876 == 8.76e-1\n",
    "            \n",
    "    - 复数complex\n",
    "        - 定义同数学定义一致\n",
    "        - 一个由实部和虚部构成的数字\n",
    "        - 虚部用j/J表示\n",
    "        - 5+3j\n",
    "        - 3j\n",
    "        - （3j）\n",
    "    - 布尔值\n",
    "        - 表示真假的值\n",
    "        - 只有两个值， True/False\n",
    "        - 布尔值可以跟数字直接操作\n",
    "        \n",
    "    - 字符串\n",
    "        - 用来表示一串文字信息\n",
    "        - 如何表示\n",
    "            - 单引号\n",
    "            - 双引号\n",
    "            - 三引号（三个单引号或者三个双引号）\n",
    "                - 能够扩起多行信息\n",
    "        - 单双引号交错使用\n"
   ]
  },
  {
   "cell_type": "code",
   "execution_count": null,
   "metadata": {},
   "outputs": [],
   "source": []
  }
 ],
 "metadata": {
  "kernelspec": {
   "display_name": "Python 3",
   "language": "python",
   "name": "python3"
  },
  "language_info": {
   "codemirror_mode": {
    "name": "ipython",
    "version": 3
   },
   "file_extension": ".py",
   "mimetype": "text/x-python",
   "name": "python",
   "nbconvert_exporter": "python",
   "pygments_lexer": "ipython3",
   "version": "3.7.0"
  }
 },
 "nbformat": 4,
 "nbformat_minor": 2
}
